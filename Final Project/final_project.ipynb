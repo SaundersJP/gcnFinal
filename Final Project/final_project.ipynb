{
 "cells": [
  {
   "cell_type": "code",
   "execution_count": 13,
   "metadata": {},
   "outputs": [
    {
     "name": "stdout",
     "output_type": "stream",
     "text": [
      "Condensed Matter 1999 Network\n",
      "Number of Nodes - 16726\n",
      "Number of Edges - 47594\n",
      "Average Clustering Coefficient - 0.620363 \n",
      "\n",
      "Condensed Matter 1999-2003 Network\n",
      "Number of Nodes - 31163\n",
      "Number of Edges - 120029\n",
      "Average Clustering Coefficient - 0.631524 \n",
      "\n",
      "Condensed Matter 2003-2005 Network\n",
      "Number of Nodes - 40421\n",
      "Number of Edges - 175692\n",
      "Average Clustering Coefficient - 0.636163\n"
     ]
    }
   ],
   "source": [
    "import networkx as nx \n",
    "import matplotlib.pyplot as plt\n",
    "\n",
    "\n",
    "conda_1999 = nx.read_gml('/Users/AshleyToribio/git/gcnFinal/cond-mat/cond-mat.gml', label='id')\n",
    "print(\"Condensed Matter 1999 Network\")\n",
    "print(\"Number of Nodes - %d\"%conda_1999.number_of_nodes())\n",
    "print(\"Number of Edges - %d\"%conda_1999.number_of_edges())\n",
    "print(\"Average Clustering Coefficient - %f \\n\"%nx.average_clustering(conda_1999))\n",
    "\n",
    "conda_2003 = nx.read_gml('/Users/AshleyToribio/git/gcnFinal/cond-mat-2003/cond-mat-2003.gml', label='id')\n",
    "print(\"Condensed Matter 1999-2003 Network\")\n",
    "print(\"Number of Nodes - %d\"%conda_2003.number_of_nodes())\n",
    "print(\"Number of Edges - %d\"%conda_2003.number_of_edges())\n",
    "print(\"Average Clustering Coefficient - %f \\n\"%nx.average_clustering(conda_2003))\n",
    "\n",
    "conda_2005 = nx.read_gml('/Users/AshleyToribio/git/gcnFinal/cond-mat-2005/cond-mat-2005.gml', label='id')\n",
    "print(\"Condensed Matter 2003-2005 Network\")\n",
    "print(\"Number of Nodes - %d\"%conda_2005.number_of_nodes())\n",
    "print(\"Number of Edges - %d\"%conda_2005.number_of_edges())\n",
    "print(\"Average Clustering Coefficient - %f\"%nx.average_clustering(conda_2005))\n",
    "\n",
    "# nx.draw(conda_1999)"
   ]
  },
  {
   "cell_type": "code",
   "execution_count": null,
   "metadata": {},
   "outputs": [],
   "source": [
    "nx.write_edgelist(conda_1999, 'conda_1999.txt')\n",
    "nx.write_edgelist(conda_2003, 'conda_2003.txt')\n",
    "nx.write_edgelist(conda_2005, 'conda_2005.txt')"
   ]
  },
  {
   "cell_type": "code",
   "execution_count": 4,
   "metadata": {},
   "outputs": [],
   "source": [
    "with open('/Users/AshleyToribio/git/gcnFinal/Final Project/conda_1999.txt') as file:\n",
    "    file_contents = file.read().split('\\n')\n",
    "    conda_1999_parse = [line.split() for line in file_contents]\n",
    "    conda_1999_parse = conda_1999_parse[:len(conda_1999_parse)-1]\n",
    "    conda_1999_parse = [(line[0],line[1]) for line in conda_1999_parse]\n",
    "\n",
    "with open('/Users/AshleyToribio/git/gcnFinal/Final Project/conda_2003.txt') as file:\n",
    "    file_contents = file.read().split('\\n')\n",
    "    conda_2003_parse = [line.split() for line in file_contents]\n",
    "    conda_2003_parse = conda_2003_parse[:len(conda_2003_parse)-1]\n",
    "    conda_2003_parse = [(line[0],line[1]) for line in conda_2003_parse]\n",
    "\n",
    "with open('/Users/AshleyToribio/git/gcnFinal/Final Project/conda_2005.txt') as file:\n",
    "    file_contents = file.read().split('\\n')\n",
    "    conda_2005_parse = [line.split() for line in file_contents]\n",
    "    conda_2005_parse = conda_2005_parse[:len(conda_2005_parse)-1]\n",
    "    conda_2005_parse = [(line[0],line[1]) for line in conda_2005_parse]\n",
    "   \n",
    "    #     parse = parse[3:len(parse)-1]"
   ]
  },
  {
   "cell_type": "code",
   "execution_count": null,
   "metadata": {},
   "outputs": [],
   "source": [
    "differences_between_1999_2003=[]\n",
    "for i in range(0,len(conda_2003_parse)):\n",
    "    if (conda_2003_parse[i] not in conda_1999_parse) or ((conda_2003_parse[i][1],conda_2003_parse[i][0]) not in conda_1999_parse):\n",
    "        differences_between_1999_2003.append(conda_2003_parse[i])"
   ]
  },
  {
   "cell_type": "code",
   "execution_count": null,
   "metadata": {},
   "outputs": [],
   "source": [
    "differences_between_1999_2005=[]\n",
    "for i in range(0,len(conda_2005_parse)):\n",
    "    if (conda_2005_parse[i] not in conda_1999_parse) or ((conda_2005_parse[i][1],conda_2005_parse[i][0])not in conda_1999_parse):\n",
    "        differences_between_1999_2005.append(conda_2005_parse[i])"
   ]
  },
  {
   "cell_type": "code",
   "execution_count": 5,
   "metadata": {},
   "outputs": [],
   "source": [
    "differences_between_2003_2005=[]\n",
    "for i in range(0,len(conda_2005_parse)):\n",
    "    if (conda_2005_parse[i] not in conda_2003_parse) or ((conda_2005_parse[i][1],conda_2005_parse[i][0])not in conda_2003_parse):\n",
    "        differences_between_2003_2005.append(conda_2005_parse[i])"
   ]
  },
  {
   "cell_type": "code",
   "execution_count": null,
   "metadata": {},
   "outputs": [],
   "source": [
    "print(differences_between_1999_2003)"
   ]
  },
  {
   "cell_type": "code",
   "execution_count": null,
   "metadata": {},
   "outputs": [],
   "source": [
    "print(differences_between_2003_2005)"
   ]
  },
  {
   "cell_type": "code",
   "execution_count": 6,
   "metadata": {},
   "outputs": [],
   "source": [
    "\n",
    "# G=nx.Graph()\n",
    "\n",
    "# G.add_edges_from(differences_between_1999_2003)\n",
    "# nx.write_edgelist(G, 'differences_between_1999_2003.txt')\n",
    "\n",
    "G=nx.Graph()\n",
    "\n",
    "G.add_edges_from(differences_between_2003_2005)\n",
    "nx.write_edgelist(G, 'differences_between_2003_2005.txt')\n",
    "\n",
    "# G=nx.Graph()\n",
    "\n",
    "# G.add_edges_from(differences_between_1999_2005)\n",
    "# nx.write_edgelist(G, 'differences_between_1999_2005.txt')"
   ]
  },
  {
   "cell_type": "code",
   "execution_count": 9,
   "metadata": {},
   "outputs": [],
   "source": [
    "nx.write_weighted_edgelist(conda_1999, 'weighted_conda_1999.txt')\n",
    "conda_1999.get_edge_data('','b',default=0)\n"
   ]
  },
  {
   "cell_type": "code",
   "execution_count": null,
   "metadata": {},
   "outputs": [],
   "source": []
  }
 ],
 "metadata": {
  "kernelspec": {
   "display_name": "Python 3",
   "language": "python",
   "name": "python3"
  },
  "language_info": {
   "codemirror_mode": {
    "name": "ipython",
    "version": 3
   },
   "file_extension": ".py",
   "mimetype": "text/x-python",
   "name": "python",
   "nbconvert_exporter": "python",
   "pygments_lexer": "ipython3",
   "version": "3.6.5"
  }
 },
 "nbformat": 4,
 "nbformat_minor": 2
}
