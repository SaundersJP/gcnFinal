{
 "cells": [
  {
   "cell_type": "code",
   "execution_count": 1,
   "metadata": {},
   "outputs": [
    {
     "name": "stdout",
     "output_type": "stream",
     "text": [
      "Condensed Matter 1999 Network\n",
      "Number of Nodes - 16726\n",
      "Number of Edges - 47594\n",
      "Average Clustering Coefficient - 0.620363 \n",
      "\n",
      "Condensed Matter 1999-2003 Network\n",
      "Number of Nodes - 31163\n",
      "Number of Edges - 120029\n",
      "Average Clustering Coefficient - 0.631524 \n",
      "\n",
      "Condensed Matter 2003-2005 Network\n",
      "Number of Nodes - 40421\n",
      "Number of Edges - 175692\n",
      "Average Clustering Coefficient - 0.636163\n"
     ]
    }
   ],
   "source": [
    "import networkx as nx \n",
    "import matplotlib.pyplot as plt\n",
    "\n",
    "\n",
    "conda_1999 = nx.read_gml('/Users/AshleyToribio/git/gcnFinal/cond-mat/cond-mat.gml', label='id')\n",
    "print(\"Condensed Matter 1999 Network\")\n",
    "print(\"Number of Nodes - %d\"%conda_1999.number_of_nodes())\n",
    "print(\"Number of Edges - %d\"%conda_1999.number_of_edges())\n",
    "print(\"Average Clustering Coefficient - %f \\n\"%nx.average_clustering(conda_1999))\n",
    "\n",
    "conda_2003 = nx.read_gml('/Users/AshleyToribio/git/gcnFinal/cond-mat-2003/cond-mat-2003.gml', label='id')\n",
    "print(\"Condensed Matter 1999-2003 Network\")\n",
    "print(\"Number of Nodes - %d\"%conda_2003.number_of_nodes())\n",
    "print(\"Number of Edges - %d\"%conda_2003.number_of_edges())\n",
    "print(\"Average Clustering Coefficient - %f \\n\"%nx.average_clustering(conda_2003))\n",
    "\n",
    "conda_2005 = nx.read_gml('/Users/AshleyToribio/git/gcnFinal/cond-mat-2005/cond-mat-2005.gml', label='id')\n",
    "print(\"Condensed Matter 2003-2005 Network\")\n",
    "print(\"Number of Nodes - %d\"%conda_2005.number_of_nodes())\n",
    "print(\"Number of Edges - %d\"%conda_2005.number_of_edges())\n",
    "print(\"Average Clustering Coefficient - %f\"%nx.average_clustering(conda_2005))\n",
    "\n",
    "# nx.draw(conda_1999)"
   ]
  },
  {
   "cell_type": "code",
   "execution_count": null,
   "metadata": {},
   "outputs": [],
   "source": [
    "nx.write_edgelist(conda_1999, 'conda_1999.txt')\n",
    "nx.write_edgelist(conda_2003, 'conda_2003.txt')\n",
    "nx.write_edgelist(conda_2005, 'conda_2005.txt')"
   ]
  },
  {
   "cell_type": "code",
   "execution_count": 10,
   "metadata": {},
   "outputs": [],
   "source": [
    "with open('/Users/AshleyToribio/git/gcnFinal/Final Project/conda_1999.txt') as file:\n",
    "    file_contents = file.read().split('\\n')\n",
    "    conda_1999_parse = [line.split() for line in file_contents]\n",
    "    conda_1999_parse = conda_1999_parse[:len(conda_1999_parse)-1]\n",
    "    conda_1999_parse = [(line[0],line[1]) for line in conda_1999_parse]\n",
    "\n",
    "with open('/Users/AshleyToribio/git/gcnFinal/Final Project/conda_2003.txt') as file:\n",
    "    file_contents = file.read().split('\\n')\n",
    "    conda_2003_parse = [line.split() for line in file_contents]\n",
    "    conda_2003_parse = conda_2003_parse[:len(conda_2003_parse)-1]\n",
    "    conda_2003_parse = [(line[0],line[1]) for line in conda_2003_parse]\n",
    "\n",
    "with open('/Users/AshleyToribio/git/gcnFinal/Final Project/conda_2005.txt') as file:\n",
    "    file_contents = file.read().split('\\n')\n",
    "    conda_2005_parse = [line.split() for line in file_contents]\n",
    "    conda_2005_parse = conda_2005_parse[:len(conda_2005_parse)-1]\n",
    "    conda_2005_parse = [(line[0],line[1]) for line in conda_2005_parse]\n",
    "   \n",
    "    #     parse = parse[3:len(parse)-1]"
   ]
  },
  {
   "cell_type": "code",
   "execution_count": null,
   "metadata": {},
   "outputs": [],
   "source": [
    "differences_between_1999_2003=[]\n",
    "for i in range(0,len(conda_2003_parse)):\n",
    "    if (conda_2003_parse[i] not in conda_1999_parse) or ((conda_2003_parse[i][1],conda_2003_parse[i][0]) not in conda_1999_parse):\n",
    "        differences_between_1999_2003.append(conda_2003_parse[i])"
   ]
  },
  {
   "cell_type": "code",
   "execution_count": null,
   "metadata": {},
   "outputs": [],
   "source": [
    "differences_between_1999_2005=[]\n",
    "for i in range(0,len(conda_2005_parse)):\n",
    "    if (conda_2005_parse[i] not in conda_1999_parse) or ((conda_2005_parse[i][1],conda_2005_parse[i][0])not in conda_1999_parse):\n",
    "        differences_between_1999_2005.append(conda_2005_parse[i])"
   ]
  },
  {
   "cell_type": "code",
   "execution_count": 5,
   "metadata": {},
   "outputs": [],
   "source": [
    "differences_between_2003_2005=[]\n",
    "for i in range(0,len(conda_2005_parse)):\n",
    "    if (conda_2005_parse[i] not in conda_2003_parse) or ((conda_2005_parse[i][1],conda_2005_parse[i][0])not in conda_2003_parse):\n",
    "        differences_between_2003_2005.append(conda_2005_parse[i])"
   ]
  },
  {
   "cell_type": "code",
   "execution_count": null,
   "metadata": {},
   "outputs": [],
   "source": [
    "print(differences_between_1999_2003)"
   ]
  },
  {
   "cell_type": "code",
   "execution_count": null,
   "metadata": {},
   "outputs": [],
   "source": [
    "print(differences_between_2003_2005)"
   ]
  },
  {
   "cell_type": "code",
   "execution_count": 20,
   "metadata": {},
   "outputs": [],
   "source": [
    "\n",
    "# G=nx.Graph()\n",
    "\n",
    "# G.add_edges_from(differences_between_1999_2003)\n",
    "# nx.write_edgelist(G, 'differences_between_1999_2003.txt')\n",
    "\n",
    "G=nx.Graph()\n",
    "\n",
    "G.add_edges_from(set(conda_1999_parse) ^ set(conda_2005_parse))\n",
    "nx.write_edgelist(G, 'differences_between_1999_2005.txt')\n",
    "\n",
    "# G=nx.Graph()\n",
    "\n",
    "# G.add_edges_from(differences_between_1999_2005)\n",
    "# nx.write_edgelist(G, 'differences_between_1999_2005.txt')"
   ]
  },
  {
   "cell_type": "code",
   "execution_count": 8,
   "metadata": {},
   "outputs": [
    {
     "name": "stdout",
     "output_type": "stream",
     "text": [
      "Condensed Matter 1999-2003 Network\n",
      "Number of Edges - 47594\n",
      "\n",
      "Condensed Matter 2003-2005 Network\n",
      "Number of Edges - 120029 \n",
      "\n",
      "differcnce   2003-2005 Network\n",
      "Number of Edges - 47593 \n",
      "\n"
     ]
    }
   ],
   "source": [
    "G=nx.Graph()\n",
    "\n",
    "\n",
    "\n",
    "conda_2003 = nx.read_gml('/Users/AshleyToribio/git/gcnFinal/cond-mat/cond-mat.gml', label='id')\n",
    "print(\"Condensed Matter 1999-2003 Network\")\n",
    "\n",
    "print(\"Number of Edges - %d\\n\"%conda_2003.number_of_edges())\n",
    "\n",
    "\n",
    "conda_2005 = nx.read_gml('/Users/AshleyToribio/git/gcnFinal/cond-mat-2003/cond-mat-2003.gml', label='id')\n",
    "print(\"Condensed Matter 2003-2005 Network\")\n",
    "\n",
    "print(\"Number of Edges - %d \\n\"%conda_2005.number_of_edges())\n",
    "\n",
    "\n",
    "\n",
    "diff03_05 = nx.read_edgelist('differences_between_1999_2003.txt')\n",
    "\n",
    "print(\"differcnce   2003-2005 Network\")\n",
    "\n",
    "print(\"Number of Edges - %d \\n\"%diff03_05.number_of_edges())\n",
    "\n",
    "\n",
    "\n",
    "\n",
    "\n"
   ]
  },
  {
   "cell_type": "code",
   "execution_count": 4,
   "metadata": {},
   "outputs": [
    {
     "name": "stdout",
     "output_type": "stream",
     "text": [
      "dict_items([(15, 141), (2, 2810), (1, 2187), (18, 96), (6, 1131), (28, 20), (4, 1778), (11, 305), (10, 429), (0, 462), (7, 841), (3, 2375), (36, 4), (14, 177), (50, 3), (9, 545), (41, 6), (23, 49), (17, 117), (20, 76), (5, 1378), (13, 207), (64, 1), (34, 9), (25, 34), (57, 2), (24, 35), (32, 14), (43, 5), (35, 13), (19, 95), (12, 287), (27, 28), (54, 5), (26, 24), (21, 53), (53, 5), (8, 649), (16, 134), (30, 22), (37, 12), (29, 23), (55, 2), (42, 6), (47, 3), (39, 8), (51, 3), (22, 34), (33, 12), (40, 8), (76, 3), (31, 12), (38, 12), (49, 3), (52, 5), (46, 5), (78, 1), (45, 5), (58, 1), (61, 2), (44, 2), (48, 3), (68, 1), (66, 2), (96, 1), (107, 1), (84, 1), (94, 1), (83, 1), (103, 1)])\n"
     ]
    }
   ],
   "source": [
    "import collections\n",
    "emptyList1999 = []\n",
    "for node in conda_1999:\n",
    "    emptyList1999.append(conda_1999.degree(node))\n",
    "    \n",
    "c = collections.Counter(emptyList1999)\n",
    "print('conda 1999 degrees')\n",
    "print(c.items())"
   ]
  },
  {
   "cell_type": "code",
   "execution_count": 5,
   "metadata": {},
   "outputs": [
    {
     "name": "stdout",
     "output_type": "stream",
     "text": [
      "conda 2003 degrees\n",
      "dict_items([(28, 95), (27, 90), (18, 288), (34, 62), (8, 1361), (45, 22), (6, 2103), (23, 140), (14, 461), (22, 160), (15, 379), (37, 46), (7, 1625), (9, 1039), (2, 4427), (25, 135), (11, 696), (16, 322), (13, 523), (20, 223), (30, 70), (40, 30), (49, 17), (12, 633), (5, 2440), (46, 20), (4, 3112), (1, 3247), (3, 3962), (10, 869), (107, 2), (31, 57), (19, 216), (21, 211), (26, 98), (67, 4), (42, 31), (114, 2), (78, 7), (88, 5), (81, 4), (68, 2), (29, 68), (50, 17), (24, 136), (36, 56), (33, 63), (17, 291), (35, 54), (43, 29), (32, 55), (61, 8), (39, 31), (193, 1), (41, 34), (85, 5), (56, 19), (122, 1), (104, 5), (47, 20), (65, 5), (66, 5), (59, 5), (58, 16), (84, 6), (0, 703), (72, 7), (53, 14), (182, 1), (87, 2), (64, 4), (97, 1), (48, 16), (113, 2), (54, 17), (51, 18), (100, 4), (101, 2), (106, 1), (127, 1), (77, 6), (76, 5), (103, 2), (63, 9), (38, 43), (44, 23), (162, 1), (146, 1), (139, 1), (79, 1), (55, 8), (57, 14), (52, 14), (105, 1), (60, 9), (112, 2), (118, 3), (80, 3), (74, 5), (99, 2), (95, 1), (86, 2), (120, 2), (82, 1), (62, 9), (108, 1), (202, 1), (195, 1), (176, 1), (123, 1), (75, 3), (69, 3), (73, 3), (167, 2), (119, 2), (92, 1), (91, 2), (70, 1), (137, 1), (121, 1), (133, 2), (71, 2), (83, 4), (93, 2), (166, 1), (115, 1)])\n"
     ]
    }
   ],
   "source": [
    "emptyList2003 = []\n",
    "for node in conda_2003:\n",
    "    emptyList2003.append(conda_2003.degree(node))\n",
    "    \n",
    "c = collections.Counter(emptyList2003)\n",
    "print('conda 2003 degrees')\n",
    "print(c.items())"
   ]
  },
  {
   "cell_type": "code",
   "execution_count": 6,
   "metadata": {},
   "outputs": [
    {
     "name": "stdout",
     "output_type": "stream",
     "text": [
      "conda 2005 degrees\n",
      "dict_items([(53, 25), (43, 40), (34, 63), (21, 263), (47, 35), (12, 819), (29, 149), (16, 454), (28, 130), (18, 389), (45, 44), (7, 2223), (11, 931), (1, 3789), (19, 322), (8, 1724), (9, 1383), (23, 213), (41, 45), (32, 99), (72, 5), (13, 677), (5, 3226), (61, 20), (4, 4061), (33, 86), (26, 177), (10, 1228), (24, 212), (3, 4956), (17, 390), (27, 145), (15, 489), (14, 626), (6, 2722), (142, 3), (42, 61), (22, 236), (79, 10), (20, 290), (51, 35), (39, 50), (127, 1), (59, 24), (92, 8), (102, 6), (113, 5), (25, 171), (48, 31), (64, 17), (31, 85), (37, 78), (69, 8), (52, 40), (75, 9), (85, 11), (54, 22), (84, 5), (2, 5242), (213, 1), (105, 4), (145, 1), (115, 3), (35, 101), (49, 30), (89, 6), (100, 2), (50, 38), (56, 29), (68, 14), (122, 2), (0, 844), (93, 4), (36, 74), (44, 51), (121, 2), (80, 6), (83, 7), (109, 4), (116, 3), (197, 1), (66, 15), (126, 2), (40, 66), (111, 2), (38, 49), (30, 108), (63, 11), (138, 3), (120, 4), (76, 3), (167, 2), (46, 35), (99, 5), (58, 20), (88, 1), (73, 14), (71, 10), (62, 22), (74, 8), (67, 11), (114, 3), (246, 1), (60, 18), (55, 25), (222, 1), (57, 14), (65, 12), (155, 2), (108, 1), (98, 4), (70, 9), (110, 4), (81, 3), (135, 2), (97, 2), (87, 4), (154, 2), (175, 2), (144, 3), (129, 2), (82, 8), (78, 4), (95, 5), (123, 1), (195, 1), (272, 1), (278, 1), (112, 1), (117, 2), (217, 2), (163, 2), (104, 1), (189, 1), (125, 2), (77, 7), (156, 2), (106, 1), (216, 1), (90, 3), (157, 1), (140, 1), (91, 6), (103, 7), (107, 1), (184, 1), (132, 1), (96, 1), (86, 3), (118, 2), (133, 2), (169, 1), (187, 1), (141, 1), (229, 1), (136, 1), (94, 1), (151, 1), (178, 1), (124, 1)])\n"
     ]
    }
   ],
   "source": [
    "emptyList2005 = []\n",
    "for node in conda_2005:\n",
    "    emptyList2005.append(conda_2005.degree(node))\n",
    "    \n",
    "c = collections.Counter(emptyList2005)\n",
    "print('conda 2005 degrees')\n",
    "print(c.items())"
   ]
  },
  {
   "cell_type": "code",
   "execution_count": null,
   "metadata": {},
   "outputs": [],
   "source": []
  }
 ],
 "metadata": {
  "kernelspec": {
   "display_name": "Python 3",
   "language": "python",
   "name": "python3"
  },
  "language_info": {
   "codemirror_mode": {
    "name": "ipython",
    "version": 3
   },
   "file_extension": ".py",
   "mimetype": "text/x-python",
   "name": "python",
   "nbconvert_exporter": "python",
   "pygments_lexer": "ipython3",
   "version": "3.6.5"
  }
 },
 "nbformat": 4,
 "nbformat_minor": 2
}
