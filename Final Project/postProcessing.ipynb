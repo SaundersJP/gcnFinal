{
 "cells": [
  {
   "cell_type": "code",
   "execution_count": 1,
   "metadata": {},
   "outputs": [],
   "source": [
    "import heapq\n",
    "import json\n",
    "import networkx as nx"
   ]
  },
  {
   "cell_type": "code",
   "execution_count": 2,
   "metadata": {},
   "outputs": [],
   "source": [
    "preds1999 = None\n",
    "preds2003 = None\n",
    "preds2005 = None\n",
    "Gtest1999 = None\n",
    "Gtest2003 = None\n",
    "Gtest2005 = None\n",
    "with open(\"predict1999.json\", \"r\") as infile:\n",
    "    preds1999 = json.load(infile)\n",
    "with open(\"predict2003.json\", \"r\") as infile:\n",
    "    preds2003 = json.load(infile)\n",
    "# with open(\"predict2005.json\", \"r\") as infile:\n",
    "#     preds2005 = json.load(infile)\n",
    "with open(\"Gtest_1999.json\", \"r\") as infile:\n",
    "    Gtest1999 = json.load(infile)\n",
    "with open(\"Gtest_2003.json\", \"r\") as infile:\n",
    "    Gtest2003 = json.load(infile)\n",
    "# with open(\"Gtest_2005.json\", \"r\") as infile:\n",
    "#     Gtest2005 = json.load(infile)"
   ]
  },
  {
   "cell_type": "code",
   "execution_count": 26,
   "metadata": {},
   "outputs": [
    {
     "name": "stdout",
     "output_type": "stream",
     "text": [
      "Prediction accuracy for 1999: 0.46598565529232777\n",
      "Prediction accuracy for 2003: 0.46002852109722336\n"
     ]
    }
   ],
   "source": [
    "topN1999 = heapq.nlargest(iterable=preds1999, n=(2*len(Gtest1999)), key=lambda x: x[1])\n",
    "count1999 = 0\n",
    "for i in range(0,len(topN1999), 2):\n",
    "    if((topN1999[i][0] in Gtest1999) or (topN1999[i+1][0] in Gtest1999)):\n",
    "        count1999 += 1\n",
    "print(\"Prediction accuracy for 1999: \" + str(count1999/len(Gtest1999)))\n",
    "\n",
    "topN2003 = heapq.nlargest(iterable=preds2003, n=(2*len(Gtest2003)), key=lambda x: x[1])\n",
    "count2003 = 0\n",
    "for i in range(0, len(topN2003), 2):\n",
    "    if((topN2003[i][0] in Gtest2003) or (topN2003[i+1][0] in Gtest2003)):\n",
    "        count2003 += 1\n",
    "print(\"Prediction accuracy for 2003: \" + str(count2003/len(Gtest2003)))\n",
    "\n",
    "# topN2005 = heapq.nlargest(iterable=preds2005, n=(2*len(Gtest2005)), key=lambda x: x[1])\n",
    "# count2005 = 0\n",
    "# for i in range(0, len(topN2005), 2):\n",
    "#     if((topN2005[i][0] in Gtest2005) or (topN2005[i+1][0] in Gtest2005)):\n",
    "#         count2005 += 1\n",
    "# print(\"Prediction accuracy for 2005: \" + str(count2005/len(Gtest2005)))\n"
   ]
  },
  {
   "cell_type": "code",
   "execution_count": null,
   "metadata": {},
   "outputs": [],
   "source": []
  }
 ],
 "metadata": {
  "kernelspec": {
   "display_name": "Python 3",
   "language": "python",
   "name": "python3"
  },
  "language_info": {
   "codemirror_mode": {
    "name": "ipython",
    "version": 3
   },
   "file_extension": ".py",
   "mimetype": "text/x-python",
   "name": "python",
   "nbconvert_exporter": "python",
   "pygments_lexer": "ipython3",
   "version": "3.5.2"
  }
 },
 "nbformat": 4,
 "nbformat_minor": 2
}
